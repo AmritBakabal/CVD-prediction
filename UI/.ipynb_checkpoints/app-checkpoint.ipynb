{
 "cells": [
  {
   "cell_type": "code",
   "execution_count": null,
   "id": "be2e9610",
   "metadata": {},
   "outputs": [],
   "source": [
    "from flask import Flask, render_template, request\n",
    "import pandas as pd\n",
    "import joblib\n",
    "\n",
    "app = Flask(__name__)\n",
    "\n",
    "# Load the trained model from file\n",
    "model = joblib.load('trained_model.sav')\n",
    "\n",
    "# Define the route for the home page\n",
    "@app.route('/')\n",
    "def home():\n",
    "    return render_template('index.html')\n",
    "\n",
    "# Define the route for the prediction page\n",
    "@app.route('/predict', methods=['POST'])\n",
    "def predict():\n",
    "    # Get input values from form\n",
    "    age = int(request.form['age'])\n",
    "    sex = int(request.form['sex'])\n",
    "    cigsPerDay = float(request.form['cigsPerDay'])\n",
    "    BPMeds = float(request.form['BPMeds'])\n",
    "    prevalentStroke = int(request.form['prevalentStroke'])\n",
    "    totChol = float(request.form['totChol'])\n",
    "    BMI = float(request.form['BMI'])\n",
    "    heartRate = float(request.form['heartRate'])\n",
    "    MAP = float(request.form['MAP'])\n",
    "    diabetes_grade = int(request.form['diabetes_grade'])\n",
    "\n",
    "    # Create dataframe with input values\n",
    "    data = pd.DataFrame({'age': [age],\n",
    "                         'sex': [sex],\n",
    "                         'cigsPerDay': [cigsPerDay],\n",
    "                         'BPMeds': [BPMeds],\n",
    "                         'prevalentStroke': [prevalentStroke],\n",
    "                         'totChol': [totChol],\n",
    "                         'BMI': [BMI],\n",
    "                         'heartRate': [heartRate],\n",
    "                         'MAP': [MAP],\n",
    "                         'diabetes_grade': [diabetes_grade]})\n",
    "\n",
    "    # Make prediction and display result\n",
    "    result = model.predict(data)[0]\n",
    "    if result == 0:\n",
    "        prediction = 'No risk of heart disease'\n",
    "    else:\n",
    "        prediction = 'Risk of heart disease'\n",
    "\n",
    "    # Render the prediction page with the result\n",
    "    return render_template('predict.html', prediction=prediction)\n",
    "\n",
    "if __name__ == '__main__':\n",
    "    app.run(debug=True)\n"
   ]
  }
 ],
 "metadata": {
  "kernelspec": {
   "display_name": "Python 3 (ipykernel)",
   "language": "python",
   "name": "python3"
  },
  "language_info": {
   "codemirror_mode": {
    "name": "ipython",
    "version": 3
   },
   "file_extension": ".py",
   "mimetype": "text/x-python",
   "name": "python",
   "nbconvert_exporter": "python",
   "pygments_lexer": "ipython3",
   "version": "3.10.6"
  }
 },
 "nbformat": 4,
 "nbformat_minor": 5
}
