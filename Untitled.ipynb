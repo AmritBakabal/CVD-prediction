{
 "cells": [
  {
   "cell_type": "code",
   "execution_count": 1,
   "id": "77956bc7",
   "metadata": {},
   "outputs": [],
   "source": [
    "import ipywidgets as widgets\n"
   ]
  },
  {
   "cell_type": "code",
   "execution_count": 4,
   "id": "ab4a2353",
   "metadata": {},
   "outputs": [
    {
     "data": {
      "application/vnd.jupyter.widget-view+json": {
       "model_id": "dc6d5c037c584031926b0d26783504e0",
       "version_major": 2,
       "version_minor": 0
      },
      "text/plain": [
       "IntSlider(value=5, max=10)"
      ]
     },
     "metadata": {},
     "output_type": "display_data"
    }
   ],
   "source": [
    "slider = widgets.IntSlider(min=0, max=10, step=1, value=5)\n",
    "display(slider)"
   ]
  },
  {
   "cell_type": "code",
   "execution_count": 3,
   "id": "894de213",
   "metadata": {},
   "outputs": [],
   "source": [
    "def handle_slider_change(change):\n",
    "    value = change.new\n",
    "    print(\"Slider value is now:\", value)"
   ]
  },
  {
   "cell_type": "code",
   "execution_count": null,
   "id": "36f3a28f",
   "metadata": {},
   "outputs": [],
   "source": []
  },
  {
   "cell_type": "code",
   "execution_count": null,
   "id": "eae80e24",
   "metadata": {},
   "outputs": [],
   "source": []
  }
 ],
 "metadata": {
  "kernelspec": {
   "display_name": "Python 3 (ipykernel)",
   "language": "python",
   "name": "python3"
  },
  "language_info": {
   "codemirror_mode": {
    "name": "ipython",
    "version": 3
   },
   "file_extension": ".py",
   "mimetype": "text/x-python",
   "name": "python",
   "nbconvert_exporter": "python",
   "pygments_lexer": "ipython3",
   "version": "3.10.6"
  }
 },
 "nbformat": 4,
 "nbformat_minor": 5
}
